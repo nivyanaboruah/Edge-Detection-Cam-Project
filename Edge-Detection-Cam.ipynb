{
 "cells": [
  {
   "cell_type": "markdown",
   "id": "ea7f51ed-4416-429a-aad5-d3107f7da517",
   "metadata": {},
   "source": []
  },
  {
   "cell_type": "code",
   "execution_count": 1,
   "id": "df34cc3c-6cdb-4e21-ba90-93bb522b0187",
   "metadata": {},
   "outputs": [
    {
     "ename": "ModuleNotFoundError",
     "evalue": "No module named 'cv2'",
     "output_type": "error",
     "traceback": [
      "\u001b[31m---------------------------------------------------------------------------\u001b[39m",
      "\u001b[31mModuleNotFoundError\u001b[39m                       Traceback (most recent call last)",
      "\u001b[36mCell\u001b[39m\u001b[36m \u001b[39m\u001b[32mIn[1]\u001b[39m\u001b[32m, line 1\u001b[39m\n\u001b[32m----> \u001b[39m\u001b[32m1\u001b[39m \u001b[38;5;28;01mimport\u001b[39;00m\u001b[38;5;250m \u001b[39m\u001b[34;01mcv2\u001b[39;00m\n\u001b[32m      2\u001b[39m \u001b[38;5;28;01mimport\u001b[39;00m\u001b[38;5;250m \u001b[39m\u001b[34;01mnumpy\u001b[39;00m\u001b[38;5;250m \u001b[39m\u001b[38;5;28;01mas\u001b[39;00m\u001b[38;5;250m \u001b[39m\u001b[34;01mnp\u001b[39;00m\n\u001b[32m      4\u001b[39m robert_v =np.array([[\u001b[32m1\u001b[39m,\u001b[32m0\u001b[39m],[\u001b[32m0\u001b[39m,-\u001b[32m1\u001b[39m]], dtype =np.float32)\n",
      "\u001b[31mModuleNotFoundError\u001b[39m: No module named 'cv2'"
     ]
    }
   ],
   "source": [
    "import cv2\n",
    "import numpy as np\n",
    "\n",
    "robert_v =np.array([[1,0],[0,-1]], dtype =np.float32)\n",
    "robert_h =np.array([[0,1],[-1,0]], dtype =np.float32)\n",
    "\n",
    "Prewitt_x = np.array([[1,0,-1],[1,0,-1],[1,0,-1]], dtype = np.float32)\n",
    "Prewitt_y = np.array([[1,1,1],[0,0,0],[-1,-1,-1]], dtype = np.float32)\n",
    "\n",
    "cam = cv2.VideoCapture(0)\n",
    "mode = 'normal'\n",
    "\n",
    "print('Press:')\n",
    "print(\"'n'- normal camera\")\n",
    "print(\"'s'- Sobel\")\n",
    "print(\"'r'- Roberts\")\n",
    "print(\"'p'- Prewitt\")\n",
    "print(\"'l'- Laplacian\")\n",
    "print(\"'c'- Canny\")\n",
    "print(\"'q'- Quit\")\n",
    "\n",
    "while True :\n",
    "    ret, frame = cam.read()\n",
    "    if not ret:\n",
    "        break\n",
    "    gray = cv2.cvtColor(frame,cv2.COLOR_BGR2GRAY)\n",
    "\n",
    "    if mode == 'Sobel':\n",
    "        grad_x = cv2.Sobel(gray, cv2.CV_64F,1,0, ksize =3)\n",
    "        grad_y = cv2.Sobel(gray, cv2.CV_64F, 0, 1, ksize = 3)\n",
    "        edge = cv2.convertScaleAbs(cv2.magnitude(grad_x, grad_y))\n",
    "    elif mode == 'Roberts':\n",
    "        edge_x = cv2.filter2D(gray , -1, robert_v)\n",
    "        edge_y = cv2.filter2D(gray,-1,robert_h)\n",
    "        edge = cv2.convertScaleAbs(edge_x + edge_y)\n",
    "    elif mode == 'Prewitt':\n",
    "        edge_x = cv2.filter2D(gray, -1,Prewitt_x )\n",
    "        edge_y = cv2.filter2D(gray, -1,Prewitt_y)\n",
    "        edge = cv2.convertScaleAbs(edge_x+edge_y)\n",
    "\n",
    "    elif mode == 'Laplacian':\n",
    "        laplacian = cv2.Laplacian(gray, cv2.CV_64F)\n",
    "        edge = cv2.convertScaleAbs(laplacian)\n",
    "    elif mode == 'Canny':\n",
    "        edge = cv2.Canny(gray,100,200)\n",
    "    else:\n",
    "        edge = frame\n",
    "\n",
    "    cv2.imshow(\"Edge Cam Detection\",edge)\n",
    "\n",
    "\n",
    "    key = cv2.waitKey(1)&0xFF\n",
    "    if key == ord('q'):\n",
    "        break\n",
    "    elif key == ord('n'):\n",
    "        mode = 'normal'\n",
    "    elif key == ord('l'):\n",
    "        mode = 'Laplacian'\n",
    "    elif key == ord('s'):\n",
    "        mode = 'Sobel'\n",
    "    elif key == ord('r'):\n",
    "        mode = 'Roberts'\n",
    "    elif key == ord('p'):\n",
    "        mode = 'Prewitt'\n",
    "    elif key == ord('c'):\n",
    "         mode = 'Canny'\n",
    "\n",
    "\n",
    "cam.release()\n",
    "cv2.destroyAllWindows()"
   ]
  },
  {
   "cell_type": "code",
   "execution_count": null,
   "id": "363edc31-084a-4df3-bbfd-73478d5008ec",
   "metadata": {},
   "outputs": [],
   "source": [
    "n"
   ]
  },
  {
   "cell_type": "code",
   "execution_count": null,
   "id": "3fe2c062-f17f-44ff-97f4-864782d1ff1e",
   "metadata": {},
   "outputs": [],
   "source": []
  }
 ],
 "metadata": {
  "kernelspec": {
   "display_name": "Python 3",
   "language": "python",
   "name": "python3"
  },
  "language_info": {
   "codemirror_mode": {
    "name": "ipython",
    "version": 3
   },
   "file_extension": ".py",
   "mimetype": "text/x-python",
   "name": "python",
   "nbconvert_exporter": "python",
   "pygments_lexer": "ipython3",
   "version": "3.12.7"
  }
 },
 "nbformat": 4,
 "nbformat_minor": 5
}
